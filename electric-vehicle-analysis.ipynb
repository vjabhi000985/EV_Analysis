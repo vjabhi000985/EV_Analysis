{
 "cells": [
  {
   "cell_type": "code",
   "execution_count": 1,
   "id": "342a7c4a",
   "metadata": {
    "_cell_guid": "b1076dfc-b9ad-4769-8c92-a6c4dae69d19",
    "_uuid": "8f2839f25d086af736a60e9eeb907d3b93b6e0e5",
    "execution": {
     "iopub.execute_input": "2024-03-30T16:36:25.669892Z",
     "iopub.status.busy": "2024-03-30T16:36:25.669495Z",
     "iopub.status.idle": "2024-03-30T16:36:26.662869Z",
     "shell.execute_reply": "2024-03-30T16:36:26.661919Z"
    },
    "papermill": {
     "duration": 1.004401,
     "end_time": "2024-03-30T16:36:26.665734",
     "exception": false,
     "start_time": "2024-03-30T16:36:25.661333",
     "status": "completed"
    },
    "tags": []
   },
   "outputs": [
    {
     "name": "stdout",
     "output_type": "stream",
     "text": [
      "/kaggle/input/electric-vehicle-population-dataset/Electric_Vehicle_Population_Data.csv\n"
     ]
    }
   ],
   "source": [
    "# This Python 3 environment comes with many helpful analytics libraries installed\n",
    "# It is defined by the kaggle/python Docker image: https://github.com/kaggle/docker-python\n",
    "# For example, here's several helpful packages to load\n",
    "\n",
    "import numpy as np # linear algebra\n",
    "import pandas as pd # data processing, CSV file I/O (e.g. pd.read_csv)\n",
    "\n",
    "# Input data files are available in the read-only \"../input/\" directory\n",
    "# For example, running this (by clicking run or pressing Shift+Enter) will list all files under the input directory\n",
    "\n",
    "import os\n",
    "for dirname, _, filenames in os.walk('/kaggle/input'):\n",
    "    for filename in filenames:\n",
    "        print(os.path.join(dirname, filename))\n",
    "\n",
    "# You can write up to 20GB to the current directory (/kaggle/working/) that gets preserved as output when you create a version using \"Save & Run All\" \n",
    "# You can also write temporary files to /kaggle/temp/, but they won't be saved outside of the current session"
   ]
  },
  {
   "cell_type": "code",
   "execution_count": 2,
   "id": "857906c6",
   "metadata": {
    "execution": {
     "iopub.execute_input": "2024-03-30T16:36:26.680649Z",
     "iopub.status.busy": "2024-03-30T16:36:26.679576Z",
     "iopub.status.idle": "2024-03-30T16:36:27.869532Z",
     "shell.execute_reply": "2024-03-30T16:36:27.868354Z"
    },
    "papermill": {
     "duration": 1.199898,
     "end_time": "2024-03-30T16:36:27.872222",
     "exception": false,
     "start_time": "2024-03-30T16:36:26.672324",
     "status": "completed"
    },
    "tags": []
   },
   "outputs": [
    {
     "data": {
      "text/html": [
       "<div>\n",
       "<style scoped>\n",
       "    .dataframe tbody tr th:only-of-type {\n",
       "        vertical-align: middle;\n",
       "    }\n",
       "\n",
       "    .dataframe tbody tr th {\n",
       "        vertical-align: top;\n",
       "    }\n",
       "\n",
       "    .dataframe thead th {\n",
       "        text-align: right;\n",
       "    }\n",
       "</style>\n",
       "<table border=\"1\" class=\"dataframe\">\n",
       "  <thead>\n",
       "    <tr style=\"text-align: right;\">\n",
       "      <th></th>\n",
       "      <th>VIN (1-10)</th>\n",
       "      <th>County</th>\n",
       "      <th>City</th>\n",
       "      <th>State</th>\n",
       "      <th>Postal Code</th>\n",
       "      <th>Model Year</th>\n",
       "      <th>Make</th>\n",
       "      <th>Model</th>\n",
       "      <th>Electric Vehicle Type</th>\n",
       "      <th>Clean Alternative Fuel Vehicle (CAFV) Eligibility</th>\n",
       "      <th>Electric Range</th>\n",
       "      <th>Base MSRP</th>\n",
       "      <th>Legislative District</th>\n",
       "      <th>DOL Vehicle ID</th>\n",
       "      <th>Vehicle Location</th>\n",
       "      <th>Electric Utility</th>\n",
       "      <th>2020 Census Tract</th>\n",
       "    </tr>\n",
       "  </thead>\n",
       "  <tbody>\n",
       "    <tr>\n",
       "      <th>0</th>\n",
       "      <td>3C3CFFGE4E</td>\n",
       "      <td>Yakima</td>\n",
       "      <td>Yakima</td>\n",
       "      <td>WA</td>\n",
       "      <td>98902.0</td>\n",
       "      <td>2014</td>\n",
       "      <td>FIAT</td>\n",
       "      <td>500</td>\n",
       "      <td>Battery Electric Vehicle (BEV)</td>\n",
       "      <td>Clean Alternative Fuel Vehicle Eligible</td>\n",
       "      <td>87</td>\n",
       "      <td>0</td>\n",
       "      <td>14.0</td>\n",
       "      <td>1593721</td>\n",
       "      <td>POINT (-120.524012 46.5973939)</td>\n",
       "      <td>PACIFICORP</td>\n",
       "      <td>5.307700e+10</td>\n",
       "    </tr>\n",
       "    <tr>\n",
       "      <th>1</th>\n",
       "      <td>5YJXCBE40H</td>\n",
       "      <td>Thurston</td>\n",
       "      <td>Olympia</td>\n",
       "      <td>WA</td>\n",
       "      <td>98513.0</td>\n",
       "      <td>2017</td>\n",
       "      <td>TESLA</td>\n",
       "      <td>MODEL X</td>\n",
       "      <td>Battery Electric Vehicle (BEV)</td>\n",
       "      <td>Clean Alternative Fuel Vehicle Eligible</td>\n",
       "      <td>200</td>\n",
       "      <td>0</td>\n",
       "      <td>2.0</td>\n",
       "      <td>257167501</td>\n",
       "      <td>POINT (-122.817545 46.98876)</td>\n",
       "      <td>PUGET SOUND ENERGY INC</td>\n",
       "      <td>5.306701e+10</td>\n",
       "    </tr>\n",
       "    <tr>\n",
       "      <th>2</th>\n",
       "      <td>3MW39FS03P</td>\n",
       "      <td>King</td>\n",
       "      <td>Renton</td>\n",
       "      <td>WA</td>\n",
       "      <td>98058.0</td>\n",
       "      <td>2023</td>\n",
       "      <td>BMW</td>\n",
       "      <td>330E</td>\n",
       "      <td>Plug-in Hybrid Electric Vehicle (PHEV)</td>\n",
       "      <td>Not eligible due to low battery range</td>\n",
       "      <td>20</td>\n",
       "      <td>0</td>\n",
       "      <td>11.0</td>\n",
       "      <td>224071816</td>\n",
       "      <td>POINT (-122.1298876 47.4451257)</td>\n",
       "      <td>PUGET SOUND ENERGY INC||CITY OF TACOMA - (WA)</td>\n",
       "      <td>5.303303e+10</td>\n",
       "    </tr>\n",
       "    <tr>\n",
       "      <th>3</th>\n",
       "      <td>7PDSGABA8P</td>\n",
       "      <td>Snohomish</td>\n",
       "      <td>Bothell</td>\n",
       "      <td>WA</td>\n",
       "      <td>98012.0</td>\n",
       "      <td>2023</td>\n",
       "      <td>RIVIAN</td>\n",
       "      <td>R1S</td>\n",
       "      <td>Battery Electric Vehicle (BEV)</td>\n",
       "      <td>Eligibility unknown as battery range has not b...</td>\n",
       "      <td>0</td>\n",
       "      <td>0</td>\n",
       "      <td>21.0</td>\n",
       "      <td>260084653</td>\n",
       "      <td>POINT (-122.1873 47.820245)</td>\n",
       "      <td>PUGET SOUND ENERGY INC</td>\n",
       "      <td>5.306105e+10</td>\n",
       "    </tr>\n",
       "    <tr>\n",
       "      <th>4</th>\n",
       "      <td>5YJ3E1EB8L</td>\n",
       "      <td>King</td>\n",
       "      <td>Kent</td>\n",
       "      <td>WA</td>\n",
       "      <td>98031.0</td>\n",
       "      <td>2020</td>\n",
       "      <td>TESLA</td>\n",
       "      <td>MODEL 3</td>\n",
       "      <td>Battery Electric Vehicle (BEV)</td>\n",
       "      <td>Clean Alternative Fuel Vehicle Eligible</td>\n",
       "      <td>322</td>\n",
       "      <td>0</td>\n",
       "      <td>33.0</td>\n",
       "      <td>253771913</td>\n",
       "      <td>POINT (-122.2012521 47.3931814)</td>\n",
       "      <td>PUGET SOUND ENERGY INC||CITY OF TACOMA - (WA)</td>\n",
       "      <td>5.303303e+10</td>\n",
       "    </tr>\n",
       "  </tbody>\n",
       "</table>\n",
       "</div>"
      ],
      "text/plain": [
       "   VIN (1-10)     County     City State  Postal Code  Model Year    Make  \\\n",
       "0  3C3CFFGE4E     Yakima   Yakima    WA      98902.0        2014    FIAT   \n",
       "1  5YJXCBE40H   Thurston  Olympia    WA      98513.0        2017   TESLA   \n",
       "2  3MW39FS03P       King   Renton    WA      98058.0        2023     BMW   \n",
       "3  7PDSGABA8P  Snohomish  Bothell    WA      98012.0        2023  RIVIAN   \n",
       "4  5YJ3E1EB8L       King     Kent    WA      98031.0        2020   TESLA   \n",
       "\n",
       "     Model                   Electric Vehicle Type  \\\n",
       "0      500          Battery Electric Vehicle (BEV)   \n",
       "1  MODEL X          Battery Electric Vehicle (BEV)   \n",
       "2     330E  Plug-in Hybrid Electric Vehicle (PHEV)   \n",
       "3      R1S          Battery Electric Vehicle (BEV)   \n",
       "4  MODEL 3          Battery Electric Vehicle (BEV)   \n",
       "\n",
       "   Clean Alternative Fuel Vehicle (CAFV) Eligibility  Electric Range  \\\n",
       "0            Clean Alternative Fuel Vehicle Eligible              87   \n",
       "1            Clean Alternative Fuel Vehicle Eligible             200   \n",
       "2              Not eligible due to low battery range              20   \n",
       "3  Eligibility unknown as battery range has not b...               0   \n",
       "4            Clean Alternative Fuel Vehicle Eligible             322   \n",
       "\n",
       "   Base MSRP  Legislative District  DOL Vehicle ID  \\\n",
       "0          0                  14.0         1593721   \n",
       "1          0                   2.0       257167501   \n",
       "2          0                  11.0       224071816   \n",
       "3          0                  21.0       260084653   \n",
       "4          0                  33.0       253771913   \n",
       "\n",
       "                  Vehicle Location  \\\n",
       "0   POINT (-120.524012 46.5973939)   \n",
       "1     POINT (-122.817545 46.98876)   \n",
       "2  POINT (-122.1298876 47.4451257)   \n",
       "3      POINT (-122.1873 47.820245)   \n",
       "4  POINT (-122.2012521 47.3931814)   \n",
       "\n",
       "                                Electric Utility  2020 Census Tract  \n",
       "0                                     PACIFICORP       5.307700e+10  \n",
       "1                         PUGET SOUND ENERGY INC       5.306701e+10  \n",
       "2  PUGET SOUND ENERGY INC||CITY OF TACOMA - (WA)       5.303303e+10  \n",
       "3                         PUGET SOUND ENERGY INC       5.306105e+10  \n",
       "4  PUGET SOUND ENERGY INC||CITY OF TACOMA - (WA)       5.303303e+10  "
      ]
     },
     "execution_count": 2,
     "metadata": {},
     "output_type": "execute_result"
    }
   ],
   "source": [
    "# load the dataset\n",
    "ev_df = pd.read_csv('/kaggle/input/electric-vehicle-population-dataset/Electric_Vehicle_Population_Data.csv')\n",
    "ev_df.head(5)"
   ]
  },
  {
   "cell_type": "code",
   "execution_count": 3,
   "id": "b49f5f76",
   "metadata": {
    "execution": {
     "iopub.execute_input": "2024-03-30T16:36:27.887833Z",
     "iopub.status.busy": "2024-03-30T16:36:27.887392Z",
     "iopub.status.idle": "2024-03-30T16:36:27.895288Z",
     "shell.execute_reply": "2024-03-30T16:36:27.893929Z"
    },
    "papermill": {
     "duration": 0.018803,
     "end_time": "2024-03-30T16:36:27.897944",
     "exception": false,
     "start_time": "2024-03-30T16:36:27.879141",
     "status": "completed"
    },
    "tags": []
   },
   "outputs": [
    {
     "data": {
      "text/plain": [
       "(166800, 17)"
      ]
     },
     "execution_count": 3,
     "metadata": {},
     "output_type": "execute_result"
    }
   ],
   "source": [
    "# size of the dataset\n",
    "ev_df.shape"
   ]
  },
  {
   "cell_type": "code",
   "execution_count": 4,
   "id": "e7d7c92c",
   "metadata": {
    "execution": {
     "iopub.execute_input": "2024-03-30T16:36:27.913714Z",
     "iopub.status.busy": "2024-03-30T16:36:27.913292Z",
     "iopub.status.idle": "2024-03-30T16:36:27.920817Z",
     "shell.execute_reply": "2024-03-30T16:36:27.919677Z"
    },
    "papermill": {
     "duration": 0.018447,
     "end_time": "2024-03-30T16:36:27.923276",
     "exception": false,
     "start_time": "2024-03-30T16:36:27.904829",
     "status": "completed"
    },
    "tags": []
   },
   "outputs": [
    {
     "data": {
      "text/plain": [
       "Index(['VIN (1-10)', 'County', 'City', 'State', 'Postal Code', 'Model Year',\n",
       "       'Make', 'Model', 'Electric Vehicle Type',\n",
       "       'Clean Alternative Fuel Vehicle (CAFV) Eligibility', 'Electric Range',\n",
       "       'Base MSRP', 'Legislative District', 'DOL Vehicle ID',\n",
       "       'Vehicle Location', 'Electric Utility', '2020 Census Tract'],\n",
       "      dtype='object')"
      ]
     },
     "execution_count": 4,
     "metadata": {},
     "output_type": "execute_result"
    }
   ],
   "source": [
    "# various available columns\n",
    "ev_df.columns"
   ]
  },
  {
   "cell_type": "code",
   "execution_count": 5,
   "id": "76d91edc",
   "metadata": {
    "execution": {
     "iopub.execute_input": "2024-03-30T16:36:27.939584Z",
     "iopub.status.busy": "2024-03-30T16:36:27.938749Z",
     "iopub.status.idle": "2024-03-30T16:36:28.147274Z",
     "shell.execute_reply": "2024-03-30T16:36:28.145971Z"
    },
    "papermill": {
     "duration": 0.219443,
     "end_time": "2024-03-30T16:36:28.149763",
     "exception": false,
     "start_time": "2024-03-30T16:36:27.930320",
     "status": "completed"
    },
    "tags": []
   },
   "outputs": [
    {
     "name": "stdout",
     "output_type": "stream",
     "text": [
      "<class 'pandas.core.frame.DataFrame'>\n",
      "RangeIndex: 166800 entries, 0 to 166799\n",
      "Data columns (total 17 columns):\n",
      " #   Column                                             Non-Null Count   Dtype  \n",
      "---  ------                                             --------------   -----  \n",
      " 0   VIN (1-10)                                         166800 non-null  object \n",
      " 1   County                                             166795 non-null  object \n",
      " 2   City                                               166795 non-null  object \n",
      " 3   State                                              166800 non-null  object \n",
      " 4   Postal Code                                        166795 non-null  float64\n",
      " 5   Model Year                                         166800 non-null  int64  \n",
      " 6   Make                                               166800 non-null  object \n",
      " 7   Model                                              166800 non-null  object \n",
      " 8   Electric Vehicle Type                              166800 non-null  object \n",
      " 9   Clean Alternative Fuel Vehicle (CAFV) Eligibility  166800 non-null  object \n",
      " 10  Electric Range                                     166800 non-null  int64  \n",
      " 11  Base MSRP                                          166800 non-null  int64  \n",
      " 12  Legislative District                               166440 non-null  float64\n",
      " 13  DOL Vehicle ID                                     166800 non-null  int64  \n",
      " 14  Vehicle Location                                   166790 non-null  object \n",
      " 15  Electric Utility                                   166795 non-null  object \n",
      " 16  2020 Census Tract                                  166795 non-null  float64\n",
      "dtypes: float64(3), int64(4), object(10)\n",
      "memory usage: 21.6+ MB\n"
     ]
    }
   ],
   "source": [
    "# know the meta data of the dataset\n",
    "ev_df.info()"
   ]
  },
  {
   "cell_type": "code",
   "execution_count": 6,
   "id": "e5e4cc24",
   "metadata": {
    "execution": {
     "iopub.execute_input": "2024-03-30T16:36:28.166086Z",
     "iopub.status.busy": "2024-03-30T16:36:28.165723Z",
     "iopub.status.idle": "2024-03-30T16:36:28.486242Z",
     "shell.execute_reply": "2024-03-30T16:36:28.484577Z"
    },
    "papermill": {
     "duration": 0.331677,
     "end_time": "2024-03-30T16:36:28.488761",
     "exception": false,
     "start_time": "2024-03-30T16:36:28.157084",
     "status": "completed"
    },
    "tags": []
   },
   "outputs": [
    {
     "name": "stdout",
     "output_type": "stream",
     "text": [
      "Number of duplicates data values : 0\n"
     ]
    }
   ],
   "source": [
    "# checking for the duplicates\n",
    "df = ev_df[ev_df.duplicated(keep=False)]\n",
    "print(f\"Number of duplicates data values : {df.shape[0]}\")"
   ]
  },
  {
   "cell_type": "code",
   "execution_count": 7,
   "id": "07de4f83",
   "metadata": {
    "execution": {
     "iopub.execute_input": "2024-03-30T16:36:28.506936Z",
     "iopub.status.busy": "2024-03-30T16:36:28.506536Z",
     "iopub.status.idle": "2024-03-30T16:36:28.693759Z",
     "shell.execute_reply": "2024-03-30T16:36:28.692877Z"
    },
    "papermill": {
     "duration": 0.199952,
     "end_time": "2024-03-30T16:36:28.696040",
     "exception": false,
     "start_time": "2024-03-30T16:36:28.496088",
     "status": "completed"
    },
    "tags": []
   },
   "outputs": [
    {
     "data": {
      "text/plain": [
       "Legislative District                                 360\n",
       "Vehicle Location                                      10\n",
       "2020 Census Tract                                      5\n",
       "City                                                   5\n",
       "Electric Utility                                       5\n",
       "Postal Code                                            5\n",
       "County                                                 5\n",
       "Electric Range                                         0\n",
       "DOL Vehicle ID                                         0\n",
       "Base MSRP                                              0\n",
       "VIN (1-10)                                             0\n",
       "Clean Alternative Fuel Vehicle (CAFV) Eligibility      0\n",
       "Model                                                  0\n",
       "Make                                                   0\n",
       "Model Year                                             0\n",
       "State                                                  0\n",
       "Electric Vehicle Type                                  0\n",
       "dtype: int64"
      ]
     },
     "execution_count": 7,
     "metadata": {},
     "output_type": "execute_result"
    }
   ],
   "source": [
    "# checking for the null values\n",
    "ev_df.isna().sum().sort_values(ascending=False)"
   ]
  },
  {
   "cell_type": "code",
   "execution_count": 8,
   "id": "bdb3c9ee",
   "metadata": {
    "execution": {
     "iopub.execute_input": "2024-03-30T16:36:28.712243Z",
     "iopub.status.busy": "2024-03-30T16:36:28.711857Z",
     "iopub.status.idle": "2024-03-30T16:36:28.933072Z",
     "shell.execute_reply": "2024-03-30T16:36:28.932109Z"
    },
    "papermill": {
     "duration": 0.233275,
     "end_time": "2024-03-30T16:36:28.936556",
     "exception": false,
     "start_time": "2024-03-30T16:36:28.703281",
     "status": "completed"
    },
    "tags": []
   },
   "outputs": [
    {
     "data": {
      "text/plain": [
       "(166435, 17)"
      ]
     },
     "execution_count": 8,
     "metadata": {},
     "output_type": "execute_result"
    }
   ],
   "source": [
    "# We have to remove the null values\n",
    "df = ev_df.dropna()\n",
    "df.shape"
   ]
  },
  {
   "cell_type": "code",
   "execution_count": 9,
   "id": "2ea45a0c",
   "metadata": {
    "execution": {
     "iopub.execute_input": "2024-03-30T16:36:28.957660Z",
     "iopub.status.busy": "2024-03-30T16:36:28.956096Z",
     "iopub.status.idle": "2024-03-30T16:36:29.167804Z",
     "shell.execute_reply": "2024-03-30T16:36:29.166576Z"
    },
    "papermill": {
     "duration": 0.223374,
     "end_time": "2024-03-30T16:36:29.170355",
     "exception": false,
     "start_time": "2024-03-30T16:36:28.946981",
     "status": "completed"
    },
    "tags": []
   },
   "outputs": [
    {
     "data": {
      "text/plain": [
       "VIN (1-10)                                           0\n",
       "County                                               0\n",
       "City                                                 0\n",
       "State                                                0\n",
       "Postal Code                                          0\n",
       "Model Year                                           0\n",
       "Make                                                 0\n",
       "Model                                                0\n",
       "Electric Vehicle Type                                0\n",
       "Clean Alternative Fuel Vehicle (CAFV) Eligibility    0\n",
       "Electric Range                                       0\n",
       "Base MSRP                                            0\n",
       "Legislative District                                 0\n",
       "DOL Vehicle ID                                       0\n",
       "Vehicle Location                                     0\n",
       "Electric Utility                                     0\n",
       "2020 Census Tract                                    0\n",
       "dtype: int64"
      ]
     },
     "execution_count": 9,
     "metadata": {},
     "output_type": "execute_result"
    }
   ],
   "source": [
    "# Again check the columns whether null value is present or not\n",
    "df.isna().sum()"
   ]
  },
  {
   "cell_type": "code",
   "execution_count": 10,
   "id": "af219b29",
   "metadata": {
    "execution": {
     "iopub.execute_input": "2024-03-30T16:36:29.189336Z",
     "iopub.status.busy": "2024-03-30T16:36:29.187982Z",
     "iopub.status.idle": "2024-03-30T16:36:29.242744Z",
     "shell.execute_reply": "2024-03-30T16:36:29.241498Z"
    },
    "papermill": {
     "duration": 0.066871,
     "end_time": "2024-03-30T16:36:29.245490",
     "exception": false,
     "start_time": "2024-03-30T16:36:29.178619",
     "status": "completed"
    },
    "tags": []
   },
   "outputs": [
    {
     "data": {
      "text/html": [
       "<div>\n",
       "<style scoped>\n",
       "    .dataframe tbody tr th:only-of-type {\n",
       "        vertical-align: middle;\n",
       "    }\n",
       "\n",
       "    .dataframe tbody tr th {\n",
       "        vertical-align: top;\n",
       "    }\n",
       "\n",
       "    .dataframe thead th {\n",
       "        text-align: right;\n",
       "    }\n",
       "</style>\n",
       "<table border=\"1\" class=\"dataframe\">\n",
       "  <thead>\n",
       "    <tr style=\"text-align: right;\">\n",
       "      <th></th>\n",
       "      <th>VIN (1-10)</th>\n",
       "      <th>County</th>\n",
       "      <th>City</th>\n",
       "      <th>State</th>\n",
       "      <th>Postal Code</th>\n",
       "      <th>Model Year</th>\n",
       "      <th>Make</th>\n",
       "      <th>Model</th>\n",
       "      <th>Electric Vehicle Type</th>\n",
       "      <th>Clean Alternative Fuel Vehicle (CAFV) Eligibility</th>\n",
       "      <th>Electric Range</th>\n",
       "      <th>Base MSRP</th>\n",
       "      <th>Legislative District</th>\n",
       "      <th>Vehicle Location</th>\n",
       "      <th>Electric Utility</th>\n",
       "      <th>2020 Census Tract</th>\n",
       "    </tr>\n",
       "  </thead>\n",
       "  <tbody>\n",
       "    <tr>\n",
       "      <th>0</th>\n",
       "      <td>3C3CFFGE4E</td>\n",
       "      <td>Yakima</td>\n",
       "      <td>Yakima</td>\n",
       "      <td>WA</td>\n",
       "      <td>98902.0</td>\n",
       "      <td>2014</td>\n",
       "      <td>FIAT</td>\n",
       "      <td>500</td>\n",
       "      <td>Battery Electric Vehicle (BEV)</td>\n",
       "      <td>Clean Alternative Fuel Vehicle Eligible</td>\n",
       "      <td>87</td>\n",
       "      <td>0</td>\n",
       "      <td>14.0</td>\n",
       "      <td>POINT (-120.524012 46.5973939)</td>\n",
       "      <td>PACIFICORP</td>\n",
       "      <td>5.307700e+10</td>\n",
       "    </tr>\n",
       "    <tr>\n",
       "      <th>1</th>\n",
       "      <td>5YJXCBE40H</td>\n",
       "      <td>Thurston</td>\n",
       "      <td>Olympia</td>\n",
       "      <td>WA</td>\n",
       "      <td>98513.0</td>\n",
       "      <td>2017</td>\n",
       "      <td>TESLA</td>\n",
       "      <td>MODEL X</td>\n",
       "      <td>Battery Electric Vehicle (BEV)</td>\n",
       "      <td>Clean Alternative Fuel Vehicle Eligible</td>\n",
       "      <td>200</td>\n",
       "      <td>0</td>\n",
       "      <td>2.0</td>\n",
       "      <td>POINT (-122.817545 46.98876)</td>\n",
       "      <td>PUGET SOUND ENERGY INC</td>\n",
       "      <td>5.306701e+10</td>\n",
       "    </tr>\n",
       "    <tr>\n",
       "      <th>2</th>\n",
       "      <td>3MW39FS03P</td>\n",
       "      <td>King</td>\n",
       "      <td>Renton</td>\n",
       "      <td>WA</td>\n",
       "      <td>98058.0</td>\n",
       "      <td>2023</td>\n",
       "      <td>BMW</td>\n",
       "      <td>330E</td>\n",
       "      <td>Plug-in Hybrid Electric Vehicle (PHEV)</td>\n",
       "      <td>Not eligible due to low battery range</td>\n",
       "      <td>20</td>\n",
       "      <td>0</td>\n",
       "      <td>11.0</td>\n",
       "      <td>POINT (-122.1298876 47.4451257)</td>\n",
       "      <td>PUGET SOUND ENERGY INC||CITY OF TACOMA - (WA)</td>\n",
       "      <td>5.303303e+10</td>\n",
       "    </tr>\n",
       "    <tr>\n",
       "      <th>3</th>\n",
       "      <td>7PDSGABA8P</td>\n",
       "      <td>Snohomish</td>\n",
       "      <td>Bothell</td>\n",
       "      <td>WA</td>\n",
       "      <td>98012.0</td>\n",
       "      <td>2023</td>\n",
       "      <td>RIVIAN</td>\n",
       "      <td>R1S</td>\n",
       "      <td>Battery Electric Vehicle (BEV)</td>\n",
       "      <td>Eligibility unknown as battery range has not b...</td>\n",
       "      <td>0</td>\n",
       "      <td>0</td>\n",
       "      <td>21.0</td>\n",
       "      <td>POINT (-122.1873 47.820245)</td>\n",
       "      <td>PUGET SOUND ENERGY INC</td>\n",
       "      <td>5.306105e+10</td>\n",
       "    </tr>\n",
       "    <tr>\n",
       "      <th>4</th>\n",
       "      <td>5YJ3E1EB8L</td>\n",
       "      <td>King</td>\n",
       "      <td>Kent</td>\n",
       "      <td>WA</td>\n",
       "      <td>98031.0</td>\n",
       "      <td>2020</td>\n",
       "      <td>TESLA</td>\n",
       "      <td>MODEL 3</td>\n",
       "      <td>Battery Electric Vehicle (BEV)</td>\n",
       "      <td>Clean Alternative Fuel Vehicle Eligible</td>\n",
       "      <td>322</td>\n",
       "      <td>0</td>\n",
       "      <td>33.0</td>\n",
       "      <td>POINT (-122.2012521 47.3931814)</td>\n",
       "      <td>PUGET SOUND ENERGY INC||CITY OF TACOMA - (WA)</td>\n",
       "      <td>5.303303e+10</td>\n",
       "    </tr>\n",
       "  </tbody>\n",
       "</table>\n",
       "</div>"
      ],
      "text/plain": [
       "   VIN (1-10)     County     City State  Postal Code  Model Year    Make  \\\n",
       "0  3C3CFFGE4E     Yakima   Yakima    WA      98902.0        2014    FIAT   \n",
       "1  5YJXCBE40H   Thurston  Olympia    WA      98513.0        2017   TESLA   \n",
       "2  3MW39FS03P       King   Renton    WA      98058.0        2023     BMW   \n",
       "3  7PDSGABA8P  Snohomish  Bothell    WA      98012.0        2023  RIVIAN   \n",
       "4  5YJ3E1EB8L       King     Kent    WA      98031.0        2020   TESLA   \n",
       "\n",
       "     Model                   Electric Vehicle Type  \\\n",
       "0      500          Battery Electric Vehicle (BEV)   \n",
       "1  MODEL X          Battery Electric Vehicle (BEV)   \n",
       "2     330E  Plug-in Hybrid Electric Vehicle (PHEV)   \n",
       "3      R1S          Battery Electric Vehicle (BEV)   \n",
       "4  MODEL 3          Battery Electric Vehicle (BEV)   \n",
       "\n",
       "   Clean Alternative Fuel Vehicle (CAFV) Eligibility  Electric Range  \\\n",
       "0            Clean Alternative Fuel Vehicle Eligible              87   \n",
       "1            Clean Alternative Fuel Vehicle Eligible             200   \n",
       "2              Not eligible due to low battery range              20   \n",
       "3  Eligibility unknown as battery range has not b...               0   \n",
       "4            Clean Alternative Fuel Vehicle Eligible             322   \n",
       "\n",
       "   Base MSRP  Legislative District                 Vehicle Location  \\\n",
       "0          0                  14.0   POINT (-120.524012 46.5973939)   \n",
       "1          0                   2.0     POINT (-122.817545 46.98876)   \n",
       "2          0                  11.0  POINT (-122.1298876 47.4451257)   \n",
       "3          0                  21.0      POINT (-122.1873 47.820245)   \n",
       "4          0                  33.0  POINT (-122.2012521 47.3931814)   \n",
       "\n",
       "                                Electric Utility  2020 Census Tract  \n",
       "0                                     PACIFICORP       5.307700e+10  \n",
       "1                         PUGET SOUND ENERGY INC       5.306701e+10  \n",
       "2  PUGET SOUND ENERGY INC||CITY OF TACOMA - (WA)       5.303303e+10  \n",
       "3                         PUGET SOUND ENERGY INC       5.306105e+10  \n",
       "4  PUGET SOUND ENERGY INC||CITY OF TACOMA - (WA)       5.303303e+10  "
      ]
     },
     "execution_count": 10,
     "metadata": {},
     "output_type": "execute_result"
    }
   ],
   "source": [
    "# As VIN (1-10) and DOL Vehicle ID is not required, we can drop it.\n",
    "# df = df.drop(['VIN (1-10)', 'DOL Vehicle ID'], axis=1)\n",
    "df = df.drop(['DOL Vehicle ID'], axis=1)\n",
    "df.head()"
   ]
  },
  {
   "cell_type": "code",
   "execution_count": 11,
   "id": "e13d38c4",
   "metadata": {
    "execution": {
     "iopub.execute_input": "2024-03-30T16:36:29.264631Z",
     "iopub.status.busy": "2024-03-30T16:36:29.264211Z",
     "iopub.status.idle": "2024-03-30T16:36:29.272771Z",
     "shell.execute_reply": "2024-03-30T16:36:29.271612Z"
    },
    "papermill": {
     "duration": 0.020781,
     "end_time": "2024-03-30T16:36:29.275253",
     "exception": false,
     "start_time": "2024-03-30T16:36:29.254472",
     "status": "completed"
    },
    "tags": []
   },
   "outputs": [
    {
     "data": {
      "text/plain": [
       "Index(['VIN (1-10)', 'County', 'City', 'State', 'Postal Code', 'Model Year',\n",
       "       'Make', 'Model', 'Electric Vehicle Type',\n",
       "       'Clean Alternative Fuel Vehicle (CAFV) Eligibility', 'Electric Range',\n",
       "       'Base MSRP', 'Legislative District', 'Vehicle Location',\n",
       "       'Electric Utility', '2020 Census Tract'],\n",
       "      dtype='object')"
      ]
     },
     "execution_count": 11,
     "metadata": {},
     "output_type": "execute_result"
    }
   ],
   "source": [
    "df.columns"
   ]
  },
  {
   "cell_type": "code",
   "execution_count": 12,
   "id": "09f5c130",
   "metadata": {
    "execution": {
     "iopub.execute_input": "2024-03-30T16:36:29.299747Z",
     "iopub.status.busy": "2024-03-30T16:36:29.298663Z",
     "iopub.status.idle": "2024-03-30T16:36:29.328242Z",
     "shell.execute_reply": "2024-03-30T16:36:29.326990Z"
    },
    "papermill": {
     "duration": 0.046555,
     "end_time": "2024-03-30T16:36:29.332055",
     "exception": false,
     "start_time": "2024-03-30T16:36:29.285500",
     "status": "completed"
    },
    "tags": []
   },
   "outputs": [
    {
     "name": "stdout",
     "output_type": "stream",
     "text": [
      "The number of various different ev's are : 2\n",
      "They are as follows::\n",
      "1. Battery Electric Vehicle (BEV)\n",
      "1. Plug-in Hybrid Electric Vehicle (PHEV)\n"
     ]
    }
   ],
   "source": [
    "# Let's find about the different ev vehicle types\n",
    "def unique_items(df, column='Electric Vehicle Type'):\n",
    "    uniques = list(df[column].unique())\n",
    "    idx = 1\n",
    "    print(\"The number of various different ev's are :\" + ' ' + str(len(uniques)))\n",
    "    print(\"They are as follows::\")\n",
    "    for item in uniques:\n",
    "        print(f\"{idx}. {item}\")\n",
    "\n",
    "unique_items(df)"
   ]
  },
  {
   "cell_type": "code",
   "execution_count": 13,
   "id": "72ed2375",
   "metadata": {
    "execution": {
     "iopub.execute_input": "2024-03-30T16:36:29.354050Z",
     "iopub.status.busy": "2024-03-30T16:36:29.353660Z",
     "iopub.status.idle": "2024-03-30T16:36:29.392253Z",
     "shell.execute_reply": "2024-03-30T16:36:29.390968Z"
    },
    "papermill": {
     "duration": 0.051162,
     "end_time": "2024-03-30T16:36:29.395018",
     "exception": false,
     "start_time": "2024-03-30T16:36:29.343856",
     "status": "completed"
    },
    "tags": []
   },
   "outputs": [
    {
     "name": "stdout",
     "output_type": "stream",
     "text": [
      "Electric Vehicle Type\n",
      "Battery Electric Vehicle (BEV)            130053\n",
      "Plug-in Hybrid Electric Vehicle (PHEV)     36382\n",
      "Name: count, dtype: int64\n"
     ]
    }
   ],
   "source": [
    "# Let's count the numbers of above vehicle present.\n",
    "def count(df, column='Electric Vehicle Type'):\n",
    "    print(df[column].value_counts())\n",
    "\n",
    "count(df)"
   ]
  },
  {
   "cell_type": "code",
   "execution_count": 14,
   "id": "5bccd3eb",
   "metadata": {
    "execution": {
     "iopub.execute_input": "2024-03-30T16:36:29.413589Z",
     "iopub.status.busy": "2024-03-30T16:36:29.413174Z",
     "iopub.status.idle": "2024-03-30T16:36:29.490130Z",
     "shell.execute_reply": "2024-03-30T16:36:29.489192Z"
    },
    "papermill": {
     "duration": 0.089647,
     "end_time": "2024-03-30T16:36:29.493090",
     "exception": false,
     "start_time": "2024-03-30T16:36:29.403443",
     "status": "completed"
    },
    "tags": []
   },
   "outputs": [
    {
     "data": {
      "text/html": [
       "<div>\n",
       "<style scoped>\n",
       "    .dataframe tbody tr th:only-of-type {\n",
       "        vertical-align: middle;\n",
       "    }\n",
       "\n",
       "    .dataframe tbody tr th {\n",
       "        vertical-align: top;\n",
       "    }\n",
       "\n",
       "    .dataframe thead th {\n",
       "        text-align: right;\n",
       "    }\n",
       "</style>\n",
       "<table border=\"1\" class=\"dataframe\">\n",
       "  <thead>\n",
       "    <tr style=\"text-align: right;\">\n",
       "      <th></th>\n",
       "      <th>count</th>\n",
       "      <th>mean</th>\n",
       "      <th>std</th>\n",
       "      <th>min</th>\n",
       "      <th>25%</th>\n",
       "      <th>50%</th>\n",
       "      <th>75%</th>\n",
       "      <th>max</th>\n",
       "    </tr>\n",
       "  </thead>\n",
       "  <tbody>\n",
       "    <tr>\n",
       "      <th>Postal Code</th>\n",
       "      <td>166435.0</td>\n",
       "      <td>9.826112e+04</td>\n",
       "      <td>3.041493e+02</td>\n",
       "      <td>9.800100e+04</td>\n",
       "      <td>9.805200e+04</td>\n",
       "      <td>9.812200e+04</td>\n",
       "      <td>9.837100e+04</td>\n",
       "      <td>9.940300e+04</td>\n",
       "    </tr>\n",
       "    <tr>\n",
       "      <th>Model Year</th>\n",
       "      <td>166435.0</td>\n",
       "      <td>2.020344e+03</td>\n",
       "      <td>3.001137e+00</td>\n",
       "      <td>1.997000e+03</td>\n",
       "      <td>2.018000e+03</td>\n",
       "      <td>2.021000e+03</td>\n",
       "      <td>2.023000e+03</td>\n",
       "      <td>2.024000e+03</td>\n",
       "    </tr>\n",
       "    <tr>\n",
       "      <th>Electric Range</th>\n",
       "      <td>166435.0</td>\n",
       "      <td>6.149686e+01</td>\n",
       "      <td>9.327022e+01</td>\n",
       "      <td>0.000000e+00</td>\n",
       "      <td>0.000000e+00</td>\n",
       "      <td>0.000000e+00</td>\n",
       "      <td>8.400000e+01</td>\n",
       "      <td>3.370000e+02</td>\n",
       "    </tr>\n",
       "    <tr>\n",
       "      <th>Base MSRP</th>\n",
       "      <td>166435.0</td>\n",
       "      <td>1.149907e+03</td>\n",
       "      <td>8.648905e+03</td>\n",
       "      <td>0.000000e+00</td>\n",
       "      <td>0.000000e+00</td>\n",
       "      <td>0.000000e+00</td>\n",
       "      <td>0.000000e+00</td>\n",
       "      <td>8.450000e+05</td>\n",
       "    </tr>\n",
       "    <tr>\n",
       "      <th>Legislative District</th>\n",
       "      <td>166435.0</td>\n",
       "      <td>2.917925e+01</td>\n",
       "      <td>1.485365e+01</td>\n",
       "      <td>1.000000e+00</td>\n",
       "      <td>1.800000e+01</td>\n",
       "      <td>3.300000e+01</td>\n",
       "      <td>4.200000e+01</td>\n",
       "      <td>4.900000e+01</td>\n",
       "    </tr>\n",
       "    <tr>\n",
       "      <th>2020 Census Tract</th>\n",
       "      <td>166435.0</td>\n",
       "      <td>5.303982e+10</td>\n",
       "      <td>1.623324e+07</td>\n",
       "      <td>5.300195e+10</td>\n",
       "      <td>5.303301e+10</td>\n",
       "      <td>5.303303e+10</td>\n",
       "      <td>5.305307e+10</td>\n",
       "      <td>5.307794e+10</td>\n",
       "    </tr>\n",
       "  </tbody>\n",
       "</table>\n",
       "</div>"
      ],
      "text/plain": [
       "                         count          mean           std           min  \\\n",
       "Postal Code           166435.0  9.826112e+04  3.041493e+02  9.800100e+04   \n",
       "Model Year            166435.0  2.020344e+03  3.001137e+00  1.997000e+03   \n",
       "Electric Range        166435.0  6.149686e+01  9.327022e+01  0.000000e+00   \n",
       "Base MSRP             166435.0  1.149907e+03  8.648905e+03  0.000000e+00   \n",
       "Legislative District  166435.0  2.917925e+01  1.485365e+01  1.000000e+00   \n",
       "2020 Census Tract     166435.0  5.303982e+10  1.623324e+07  5.300195e+10   \n",
       "\n",
       "                               25%           50%           75%           max  \n",
       "Postal Code           9.805200e+04  9.812200e+04  9.837100e+04  9.940300e+04  \n",
       "Model Year            2.018000e+03  2.021000e+03  2.023000e+03  2.024000e+03  \n",
       "Electric Range        0.000000e+00  0.000000e+00  8.400000e+01  3.370000e+02  \n",
       "Base MSRP             0.000000e+00  0.000000e+00  0.000000e+00  8.450000e+05  \n",
       "Legislative District  1.800000e+01  3.300000e+01  4.200000e+01  4.900000e+01  \n",
       "2020 Census Tract     5.303301e+10  5.303303e+10  5.305307e+10  5.307794e+10  "
      ]
     },
     "execution_count": 14,
     "metadata": {},
     "output_type": "execute_result"
    }
   ],
   "source": [
    "# Let's dive into the statistical information about the dataset\n",
    "df.describe().T"
   ]
  },
  {
   "cell_type": "markdown",
   "id": "560b6679",
   "metadata": {
    "papermill": {
     "duration": 0.013627,
     "end_time": "2024-03-30T16:36:29.520947",
     "exception": false,
     "start_time": "2024-03-30T16:36:29.507320",
     "status": "completed"
    },
    "tags": []
   },
   "source": [
    "# Data Preprocessing Task"
   ]
  },
  {
   "cell_type": "code",
   "execution_count": null,
   "id": "73c8c688",
   "metadata": {
    "papermill": {
     "duration": 0.011966,
     "end_time": "2024-03-30T16:36:29.545404",
     "exception": false,
     "start_time": "2024-03-30T16:36:29.533438",
     "status": "completed"
    },
    "tags": []
   },
   "outputs": [],
   "source": []
  }
 ],
 "metadata": {
  "kaggle": {
   "accelerator": "none",
   "dataSources": [
    {
     "datasetId": 4370748,
     "sourceId": 7505284,
     "sourceType": "datasetVersion"
    }
   ],
   "dockerImageVersionId": 30673,
   "isGpuEnabled": false,
   "isInternetEnabled": true,
   "language": "python",
   "sourceType": "notebook"
  },
  "kernelspec": {
   "display_name": "Python 3",
   "language": "python",
   "name": "python3"
  },
  "language_info": {
   "codemirror_mode": {
    "name": "ipython",
    "version": 3
   },
   "file_extension": ".py",
   "mimetype": "text/x-python",
   "name": "python",
   "nbconvert_exporter": "python",
   "pygments_lexer": "ipython3",
   "version": "3.10.13"
  },
  "papermill": {
   "default_parameters": {},
   "duration": 7.593769,
   "end_time": "2024-03-30T16:36:30.079150",
   "environment_variables": {},
   "exception": null,
   "input_path": "__notebook__.ipynb",
   "output_path": "__notebook__.ipynb",
   "parameters": {},
   "start_time": "2024-03-30T16:36:22.485381",
   "version": "2.5.0"
  }
 },
 "nbformat": 4,
 "nbformat_minor": 5
}
